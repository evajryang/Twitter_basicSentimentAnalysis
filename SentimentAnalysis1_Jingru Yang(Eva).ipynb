{
 "cells": [
  {
   "cell_type": "markdown",
   "metadata": {},
   "source": [
    "## HW1 Sentiment Analysis"
   ]
  },
  {
   "cell_type": "markdown",
   "metadata": {},
   "source": [
    "<b>List1-Tweet</b>"
   ]
  },
  {
   "cell_type": "code",
   "execution_count": 1,
   "metadata": {},
   "outputs": [
    {
     "data": {
      "application/javascript": [
       "IPython.notebook.set_autosave_interval(120000)"
      ]
     },
     "metadata": {},
     "output_type": "display_data"
    },
    {
     "name": "stdout",
     "output_type": "stream",
     "text": [
      "Autosaving every 120 seconds\n"
     ]
    }
   ],
   "source": [
    "%autosave 120"
   ]
  },
  {
   "cell_type": "code",
   "execution_count": 2,
   "metadata": {},
   "outputs": [],
   "source": [
    "tweets = []\n",
    "f = open('Trump.txt','r')\n",
    "\n",
    "for w in f:\n",
    "    w = w.lower().strip()\n",
    "    w = w.replace('@','').replace(':','').replace('.','').replace('*','').\\\n",
    "        replace(',','').replace('rt','').replace('?','').replace('&','').replace('\\\\','')\n",
    "    for w in w.split():\n",
    "        tweets.append(w)\n",
    "tweets[:20]\n",
    "len(tweets)\n",
    "f.close()"
   ]
  },
  {
   "cell_type": "code",
   "execution_count": 3,
   "metadata": {},
   "outputs": [
    {
     "name": "stdout",
     "output_type": "stream",
     "text": [
      "[\"b'\", 'realdonaldtrump', 'i', 'have', 'fully', 'authorized', 'the', 'total', 'declassification', 'of', 'any', 'amp;', 'all', 'documents', 'peaining', 'to', 'the', 'single', 'greatest', \"politicalxe2x80xa6n'b'\"]\n"
     ]
    }
   ],
   "source": [
    "print(tweets[:20])"
   ]
  },
  {
   "cell_type": "markdown",
   "metadata": {},
   "source": [
    " <b>List2-Positive</b>"
   ]
  },
  {
   "cell_type": "code",
   "execution_count": 4,
   "metadata": {},
   "outputs": [],
   "source": [
    "positive = []\n",
    "f = open('positive.txt','r')\n",
    "for w in f: \n",
    "    w = w.lower().strip()\n",
    "    positive.append(w)\n",
    "len(positive)\n",
    "positive[:20]\n",
    "f.close()"
   ]
  },
  {
   "cell_type": "code",
   "execution_count": 5,
   "metadata": {},
   "outputs": [
    {
     "name": "stdout",
     "output_type": "stream",
     "text": [
      "['a+', 'abound', 'abounds', 'abundance', 'abundant', 'accessable', 'accessible', 'acclaim', 'acclaimed', 'acclamation', 'accolade', 'accolades', 'accommodative', 'accomodative', 'accomplish', 'accomplished', 'accomplishment', 'accomplishments', 'accurate', 'accurately']\n"
     ]
    }
   ],
   "source": [
    "print(positive[:20])"
   ]
  },
  {
   "cell_type": "markdown",
   "metadata": {},
   "source": [
    "<b>List 3 - Negative</b>"
   ]
  },
  {
   "cell_type": "code",
   "execution_count": 6,
   "metadata": {},
   "outputs": [],
   "source": [
    "negative = []\n",
    "f = open('negative.txt','r')\n",
    "for w in f:\n",
    "    w = w.lower()\n",
    "    w = w.strip()\n",
    "    negative.append(w)\n",
    "len(negative)\n",
    "negative[:20]\n",
    "f.close()"
   ]
  },
  {
   "cell_type": "code",
   "execution_count": 7,
   "metadata": {},
   "outputs": [
    {
     "name": "stdout",
     "output_type": "stream",
     "text": [
      "['2-faced', '2-faces', 'abnormal', 'abolish', 'abominable', 'abominably', 'abominate', 'abomination', 'abort', 'aborted', 'aborts', 'abrade', 'abrasive', 'abrupt', 'abruptly', 'abscond', 'absence', 'absent-minded', 'absentee', 'absurd']\n"
     ]
    }
   ],
   "source": [
    "print(negative[:20])"
   ]
  },
  {
   "cell_type": "markdown",
   "metadata": {},
   "source": [
    "<b>List 4 - Stopword</b>"
   ]
  },
  {
   "cell_type": "code",
   "execution_count": 8,
   "metadata": {},
   "outputs": [],
   "source": [
    "stopword = []\n",
    "f = open('stopwords.txt','r')\n",
    "for w in f:\n",
    "    w = w.lower().strip()\n",
    "    stopword.append(w)\n",
    "len(stopword)\n",
    "stopword[:20]\n",
    "f.close()"
   ]
  },
  {
   "cell_type": "code",
   "execution_count": 9,
   "metadata": {
    "scrolled": true
   },
   "outputs": [
    {
     "name": "stdout",
     "output_type": "stream",
     "text": [
      "['a', 'about', 'above', 'across', 'after', 'again', 'against', 'all', 'almost', 'alone', 'along', 'already', 'also', 'although', 'always', 'among', 'an', 'and', 'another', 'any']\n"
     ]
    }
   ],
   "source": [
    "print(stopword[:20])"
   ]
  },
  {
   "cell_type": "markdown",
   "metadata": {},
   "source": [
    "<b>Compare the words in tweets with (positive, negative and stopword)</b>"
   ]
  },
  {
   "cell_type": "code",
   "execution_count": 10,
   "metadata": {},
   "outputs": [],
   "source": [
    "count_p = 0\n",
    "count_n = 0\n",
    "count_s = 0\n",
    "count_other = 0\n",
    "count_total = 0"
   ]
  },
  {
   "cell_type": "code",
   "execution_count": 11,
   "metadata": {},
   "outputs": [],
   "source": [
    "for i in tweets:\n",
    "    count_total += 1\n",
    "    if i in positive:\n",
    "        count_p += 1\n",
    "    elif i in negative:\n",
    "        count_n += 1\n",
    "    elif i in stopword:\n",
    "        count_s += 1\n",
    "    else : count_other +=1"
   ]
  },
  {
   "cell_type": "code",
   "execution_count": 14,
   "metadata": {
    "scrolled": false
   },
   "outputs": [
    {
     "name": "stdout",
     "output_type": "stream",
     "text": [
      "positive words are 74392\n",
      "negative words are 50562\n",
      "stop words are 625227\n",
      "other words are 729914\n",
      "total word count is 1480095\n",
      "******************************************************************************************\n",
      "postive ratio is 0.05\n",
      "negative ratio is 0.03\n",
      "stop ratio is 0.42\n",
      "other ratio is 0.49\n",
      "positive vs negative ratio is 1.47\n"
     ]
    }
   ],
   "source": [
    "print (\"positive words are %d\" %count_p)\n",
    "print (\"negative words are %d\" %count_n)\n",
    "print (\"stop words are %d\" %count_s)\n",
    "print (\"other words are %d\" %count_other)\n",
    "print (\"total word count is %d\" %count_total )\n",
    "print ('*' * 90)\n",
    "print (\"postive ratio is %.2f\" %(count_p/count_total))\n",
    "print (\"negative ratio is %.2f\" %(count_n/count_total))\n",
    "print (\"stop ratio is %.2f\" %(count_s/count_total))\n",
    "print (\"other ratio is %.2f\" %(count_other/count_total))\n",
    "print (\"positive vs negative ratio is %.2f\" % (count_p/count_n))"
   ]
  },
  {
   "cell_type": "markdown",
   "metadata": {},
   "source": [
    "## Conclusion \n",
    "The trump word count is strongly positive. The positive ratio, 0.05 is larger than the negative ratio, 0.03, and the positive over negative ratio is 1.47 > 1. "
   ]
  },
  {
   "cell_type": "markdown",
   "metadata": {},
   "source": [
    "## #2**Tweets keyword of Brady**"
   ]
  },
  {
   "cell_type": "markdown",
   "metadata": {},
   "source": [
    "<b>List1-Tweet</b>"
   ]
  },
  {
   "cell_type": "code",
   "execution_count": 15,
   "metadata": {},
   "outputs": [],
   "source": [
    "btweets = []\n",
    "f = open('Brady.txt','r')\n",
    "\n",
    "for w1 in f:\n",
    "    w1 = w1.lower().strip()\n",
    "    w1 = w1.replace('@','').replace(':','').replace('.','').replace('#','').replace('*','').\\\n",
    "        replace(',','').replace('http:s//','').replace('rt','').replace('?','').\\\n",
    "        replace('&','').replace('/','').replace('https//','').replace('\\\\','').\\\n",
    "        replace('//','').replace('http','')\n",
    "    for w1 in w1.split():\n",
    "        btweets.append(w1)\n",
    "btweets[:20]\n",
    "len(tweets)\n",
    "f.close()"
   ]
  },
  {
   "cell_type": "code",
   "execution_count": 16,
   "metadata": {},
   "outputs": [
    {
     "name": "stdout",
     "output_type": "stream",
     "text": [
      "[\"b'\", 'cornerpubron', 'three', 'constants', 'in', 'lifenn1', 'deathn2', 'taxesn3', 'nick', 'folesxe2x80x99', 'space', 'in', 'tom', 'bradyxe2x80x99s', 'headnntnf', 'tbvschi', 'bears', \"stcof5xe2x80xa6n'b'\", 'maggiehendricks', 'ixe2x80x99m']\n"
     ]
    }
   ],
   "source": [
    "print(btweets[:20])"
   ]
  },
  {
   "cell_type": "markdown",
   "metadata": {},
   "source": [
    " <b>List2-Positive</b>"
   ]
  },
  {
   "cell_type": "code",
   "execution_count": 17,
   "metadata": {},
   "outputs": [],
   "source": [
    "positive = []\n",
    "f = open('positive.txt','r')\n",
    "for w1 in f: \n",
    "    w1 = w1.lower().strip()\n",
    "    positive.append(w1)\n",
    "len(positive)\n",
    "positive[:20]\n",
    "f.close()"
   ]
  },
  {
   "cell_type": "code",
   "execution_count": 18,
   "metadata": {},
   "outputs": [
    {
     "name": "stdout",
     "output_type": "stream",
     "text": [
      "['a+', 'abound', 'abounds', 'abundance', 'abundant', 'accessable', 'accessible', 'acclaim', 'acclaimed', 'acclamation', 'accolade', 'accolades', 'accommodative', 'accomodative', 'accomplish', 'accomplished', 'accomplishment', 'accomplishments', 'accurate', 'accurately']\n"
     ]
    }
   ],
   "source": [
    "print(positive[:20])"
   ]
  },
  {
   "cell_type": "markdown",
   "metadata": {},
   "source": [
    "<b>List 3 - Negative</b>"
   ]
  },
  {
   "cell_type": "code",
   "execution_count": 26,
   "metadata": {},
   "outputs": [],
   "source": [
    "negative = []\n",
    "f = open('negative.txt','r')\n",
    "for w1 in f:\n",
    "    w1 = w1.lower()\n",
    "    w1 = w1.strip()\n",
    "    negative.append(w1)\n",
    "len(negative)\n",
    "negative[:20]\n",
    "f.close()"
   ]
  },
  {
   "cell_type": "code",
   "execution_count": 27,
   "metadata": {
    "scrolled": true
   },
   "outputs": [
    {
     "name": "stdout",
     "output_type": "stream",
     "text": [
      "['2-faced', '2-faces', 'abnormal', 'abolish', 'abominable', 'abominably', 'abominate', 'abomination', 'abort', 'aborted', 'aborts', 'abrade', 'abrasive', 'abrupt', 'abruptly', 'abscond', 'absence', 'absent-minded', 'absentee', 'absurd']\n"
     ]
    }
   ],
   "source": [
    "print(negative[:20])"
   ]
  },
  {
   "cell_type": "markdown",
   "metadata": {},
   "source": [
    "<b>List 4 - Stopword</b>"
   ]
  },
  {
   "cell_type": "code",
   "execution_count": 28,
   "metadata": {},
   "outputs": [],
   "source": [
    "stopword = []\n",
    "f = open('stopwords.txt','r')\n",
    "for w1 in f:\n",
    "    w1 = w1.lower()\n",
    "    w1 = w1.strip()\n",
    "    stopword.append(w1)\n",
    "len(stopword)\n",
    "stopword[:20]\n",
    "f.close()"
   ]
  },
  {
   "cell_type": "code",
   "execution_count": 29,
   "metadata": {
    "scrolled": true
   },
   "outputs": [
    {
     "name": "stdout",
     "output_type": "stream",
     "text": [
      "['a', 'about', 'above', 'across', 'after', 'again', 'against', 'all', 'almost', 'alone', 'along', 'already', 'also', 'although', 'always', 'among', 'an', 'and', 'another', 'any']\n"
     ]
    }
   ],
   "source": [
    "print(stopword[:20])"
   ]
  },
  {
   "cell_type": "code",
   "execution_count": 33,
   "metadata": {},
   "outputs": [],
   "source": [
    "count_p1 = 0\n",
    "count_n1 = 0\n",
    "count_s1 = 0\n",
    "count_other1 = 0\n",
    "count_total1 = 0"
   ]
  },
  {
   "cell_type": "code",
   "execution_count": 34,
   "metadata": {},
   "outputs": [],
   "source": [
    "for i in btweets:\n",
    "    count_total1 += 1\n",
    "    if i in positive:\n",
    "        count_p1 += 1\n",
    "    elif i in negative:\n",
    "        count_n1 += 1\n",
    "    elif i in stopword:\n",
    "        count_s1 += 1\n",
    "    else : count_other1 +=1"
   ]
  },
  {
   "cell_type": "code",
   "execution_count": 35,
   "metadata": {},
   "outputs": [
    {
     "name": "stdout",
     "output_type": "stream",
     "text": [
      "positive words = 154\n",
      "negative words = 192\n",
      "stop words = 2857\n",
      "other words = 3924\n",
      "total word count = 7127\n",
      "******************************************************************************************\n",
      "postive ratio = 0.02\n",
      "negative ratio = 0.03\n",
      "stop ratio = 0.40\n",
      "other ratio = 0.55\n",
      "positive vs negative ratio is 0.80\n"
     ]
    }
   ],
   "source": [
    "print (\"positive words = %d\" %count_p1)\n",
    "print (\"negative words = %d\" %count_n1)\n",
    "print (\"stop words = %d\" %count_s1)\n",
    "print (\"other words = %d\" %count_other1)\n",
    "print (\"total word count = %d\" %count_total1)\n",
    "print ('*' * 90)\n",
    "print (\"postive ratio = %.2f\" %(count_p1/count_total1))\n",
    "print (\"negative ratio = %.2f\" %(count_n1/count_total1))\n",
    "print (\"stop ratio = %.2f\" %(count_s1/count_total1))\n",
    "print (\"other ratio = %.2f\" %(count_other1/count_total1))\n",
    "print (\"positive vs negative ratio is %.2f\" % (count_p1/count_n1))"
   ]
  },
  {
   "cell_type": "markdown",
   "metadata": {},
   "source": [
    "## Conclusion\n",
    "\n",
    "The Brady word count is weakly negative. The positive ratio, 0.02 which is sightly smaller than negative ratio, 0.03. Then, the positive vs negative ratio 0.8 is slightly < 1."
   ]
  }
 ],
 "metadata": {
  "kernelspec": {
   "display_name": "Python 3",
   "language": "python",
   "name": "python3"
  },
  "language_info": {
   "codemirror_mode": {
    "name": "ipython",
    "version": 3
   },
   "file_extension": ".py",
   "mimetype": "text/x-python",
   "name": "python",
   "nbconvert_exporter": "python",
   "pygments_lexer": "ipython3",
   "version": "3.7.6"
  }
 },
 "nbformat": 4,
 "nbformat_minor": 4
}
